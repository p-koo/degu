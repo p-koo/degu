{
 "cells": [
  {
   "cell_type": "code",
   "execution_count": 4,
   "id": "7f724a40",
   "metadata": {},
   "outputs": [],
   "source": [
    "import os\n",
    "import numpy as np\n",
    "import matplotlib.pyplot as plt\n",
    "from six.moves import cPickle\n"
   ]
  },
  {
   "cell_type": "code",
   "execution_count": 5,
   "id": "ebfdf9e3",
   "metadata": {},
   "outputs": [],
   "source": [
    "results_path = '../results/deepstarr'"
   ]
  },
  {
   "cell_type": "code",
   "execution_count": 50,
   "id": "c2def2cf",
   "metadata": {},
   "outputs": [
    {
     "ename": "FileNotFoundError",
     "evalue": "[Errno 2] No such file or directory: '../results/deepstarr/aug_0.75_1.pickle'",
     "output_type": "error",
     "traceback": [
      "\u001b[0;31m---------------------------------------------------------------------------\u001b[0m",
      "\u001b[0;31mFileNotFoundError\u001b[0m                         Traceback (most recent call last)",
      "Input \u001b[0;32mIn [50]\u001b[0m, in \u001b[0;36m<module>\u001b[0;34m\u001b[0m\n\u001b[1;32m     62\u001b[0m \u001b[38;5;28;01mfor\u001b[39;00m trial \u001b[38;5;129;01min\u001b[39;00m \u001b[38;5;28mrange\u001b[39m(num_trials):\n\u001b[1;32m     63\u001b[0m     savename \u001b[38;5;241m=\u001b[39m os\u001b[38;5;241m.\u001b[39mpath\u001b[38;5;241m.\u001b[39mjoin(results_path, save_prefix \u001b[38;5;241m+\u001b[39m \u001b[38;5;124m'\u001b[39m\u001b[38;5;124m_\u001b[39m\u001b[38;5;124m'\u001b[39m \u001b[38;5;241m+\u001b[39m \u001b[38;5;28mstr\u001b[39m(downsample) \u001b[38;5;241m+\u001b[39m \u001b[38;5;124m'\u001b[39m\u001b[38;5;124m_\u001b[39m\u001b[38;5;124m'\u001b[39m \u001b[38;5;241m+\u001b[39m \u001b[38;5;28mstr\u001b[39m(trial))\n\u001b[0;32m---> 64\u001b[0m     \u001b[38;5;28;01mwith\u001b[39;00m \u001b[38;5;28;43mopen\u001b[39;49m\u001b[43m(\u001b[49m\u001b[43msavename\u001b[49m\u001b[43m \u001b[49m\u001b[38;5;241;43m+\u001b[39;49m\u001b[43m \u001b[49m\u001b[38;5;124;43m'\u001b[39;49m\u001b[38;5;124;43m.pickle\u001b[39;49m\u001b[38;5;124;43m'\u001b[39;49m\u001b[43m,\u001b[49m\u001b[43m \u001b[49m\u001b[38;5;124;43m'\u001b[39;49m\u001b[38;5;124;43mrb\u001b[39;49m\u001b[38;5;124;43m'\u001b[39;49m\u001b[43m)\u001b[49m \u001b[38;5;28;01mas\u001b[39;00m fin:\n\u001b[1;32m     65\u001b[0m         _ \u001b[38;5;241m=\u001b[39m cPickle\u001b[38;5;241m.\u001b[39mload(fin)\n\u001b[1;32m     66\u001b[0m         _ \u001b[38;5;241m=\u001b[39m cPickle\u001b[38;5;241m.\u001b[39mload(fin)\n",
      "\u001b[0;31mFileNotFoundError\u001b[0m: [Errno 2] No such file or directory: '../results/deepstarr/aug_0.75_1.pickle'"
     ]
    }
   ],
   "source": [
    "downsamples = [1, 0.75, 0.5, 0.25]\n",
    "num_trials = 5\n",
    "\n",
    "\n",
    "save_prefix = 'deepstarr'\n",
    "results_standard = {}\n",
    "for downsample in downsamples:\n",
    "    vals = []\n",
    "    for trial in range(num_trials):\n",
    "        savename = os.path.join(results_path, save_prefix + '_' + str(downsample) + '_' + str(trial))\n",
    "        with open(savename + '.pickle', 'rb') as fin:\n",
    "            mse, pearsonr, spearmanr = cPickle.load(fin)\n",
    "            mse2, pearsonr2, spearmanr2 = cPickle.load(fin)\n",
    "        vals.append([pearsonr, pearsonr2])\n",
    "    results_standard[downsample] = np.array(vals)\n",
    "    \n",
    "save_prefix = 'deepstarr_distilled'\n",
    "results_distilled = {}\n",
    "for downsample in downsamples:\n",
    "    vals = []\n",
    "    for trial in range(num_trials):\n",
    "        savename = os.path.join(results_path, save_prefix + '_' + str(downsample) + '_' + str(trial))\n",
    "        with open(savename + '.pickle', 'rb') as fin:\n",
    "            mse, pearsonr, spearmanr = cPickle.load(fin)\n",
    "            mse2, pearsonr2, spearmanr2 = cPickle.load(fin)\n",
    "        vals.append([pearsonr, pearsonr2])\n",
    "    results_distilled[downsample] = np.array(vals)\n",
    "    \n",
    "\n",
    "save_prefix = 'evoaug'\n",
    "results_standard_evoaug = {}\n",
    "for downsample in downsamples:\n",
    "    vals = []\n",
    "    for trial in range(num_trials):\n",
    "        savename = os.path.join(results_path, save_prefix + '_' + str(downsample) + '_' + str(trial))\n",
    "        with open(savename + '.pickle', 'rb') as fin:\n",
    "            _ = cPickle.load(fin)\n",
    "            mse, pearsonr, spearmanr = cPickle.load(fin)\n",
    "            mse2, pearsonr2, spearmanr2 = cPickle.load(fin)\n",
    "        vals.append([pearsonr, pearsonr2])\n",
    "    results_standard_evoaug[downsample] = np.array(vals)\n",
    "    \n",
    "    \n",
    "save_prefix = 'evoaug_distilled'\n",
    "results_distilled_evoaug = {}\n",
    "for downsample in downsamples:\n",
    "    vals = []\n",
    "    for trial in range(num_trials):\n",
    "        savename = os.path.join(results_path, save_prefix + '_' + str(downsample) + '_' + str(trial))\n",
    "        with open(savename + '.pickle', 'rb') as fin:\n",
    "            _ = cPickle.load(fin)\n",
    "            mse, pearsonr, spearmanr = cPickle.load(fin)\n",
    "            mse2, pearsonr2, spearmanr2 = cPickle.load(fin)\n",
    "        vals.append([pearsonr, pearsonr2])\n",
    "    results_distilled_evoaug[downsample] = np.array(vals)\n",
    "    \n",
    "\n",
    "save_prefix = 'aug'\n",
    "results_evoaug_distilled_aug = {}\n",
    "for downsample in downsamples:\n",
    "    vals = []\n",
    "    for trial in range(num_trials):\n",
    "        savename = os.path.join(results_path, save_prefix + '_' + str(downsample) + '_' + str(trial))\n",
    "        with open(savename + '.pickle', 'rb') as fin:\n",
    "            _ = cPickle.load(fin)\n",
    "            _ = cPickle.load(fin)\n",
    "            mse, pearsonr, spearmanr = cPickle.load(fin)\n",
    "            mse2, pearsonr2, spearmanr2 = cPickle.load(fin)\n",
    "        vals.append([pearsonr, pearsonr2])\n",
    "    results_evoaug_distilled_aug[downsample] = np.array(vals)\n",
    "    \n",
    "\n",
    "    \n",
    "# save_prefix = 'aug_concat'\n",
    "# results_evoaug_distilled_aug_concat = {}\n",
    "# for downsample in downsamples:\n",
    "#     vals = []\n",
    "#     for trial in range(num_trials):\n",
    "#         savename = os.path.join(results_path, save_prefix + '_' + str(downsample) + '_' + str(trial))\n",
    "#         with open(savename + '.pickle', 'rb') as fin:\n",
    "#             _ = cPickle.load(fin)\n",
    "#             _ = cPickle.load(fin)\n",
    "#             mse, pearsonr, spearmanr = cPickle.load(fin)\n",
    "#             mse2, pearsonr2, spearmanr2 = cPickle.load(fin)\n",
    "#         vals.append([pearsonr, pearsonr2])\n",
    "#     results_evoaug_distilled_aug_concat[downsample] = np.array(vals)\n",
    "    \n",
    "\n",
    "# save_prefix = 'mut'\n",
    "# results_evoaug_distilled_mut = {}\n",
    "# for downsample in downsamples:\n",
    "#     vals = []\n",
    "#     for trial in range(num_trials):\n",
    "#         savename = os.path.join(results_path, save_prefix + '_' + str(downsample) + '_' + str(trial))\n",
    "#         with open(savename + '.pickle', 'rb') as fin:\n",
    "#             _ = cPickle.load(fin)\n",
    "#             _ = cPickle.load(fin)\n",
    "#             mse, pearsonr, spearmanr = cPickle.load(fin)\n",
    "#             mse2, pearsonr2, spearmanr2 = cPickle.load(fin)\n",
    "#         vals.append([pearsonr, pearsonr2])\n",
    "#     results_evoaug_distilled_mut[downsample] = np.array(vals)\n",
    "    \n",
    "    \n",
    "    \n",
    "    "
   ]
  },
  {
   "cell_type": "code",
   "execution_count": 51,
   "id": "53cf2b28",
   "metadata": {},
   "outputs": [
    {
     "data": {
      "text/plain": [
       "{1: array([[0.70555879, 0.77952746],\n",
       "        [0.70524068, 0.77919437],\n",
       "        [0.70438991, 0.7798186 ],\n",
       "        [0.70551692, 0.78026346],\n",
       "        [0.70644088, 0.77984194]])}"
      ]
     },
     "execution_count": 51,
     "metadata": {},
     "output_type": "execute_result"
    }
   ],
   "source": [
    "results_distilled_aug"
   ]
  },
  {
   "cell_type": "code",
   "execution_count": 47,
   "id": "10232241",
   "metadata": {},
   "outputs": [
    {
     "data": {
      "text/plain": [
       "{1: array([[0.69128   , 0.7636249 ],\n",
       "        [0.69283939, 0.764452  ],\n",
       "        [0.69220713, 0.76366887],\n",
       "        [0.69158519, 0.7645433 ],\n",
       "        [0.69220438, 0.76426361]]),\n",
       " 0.75: array([[0.68681579, 0.76052676],\n",
       "        [0.68273863, 0.75756492],\n",
       "        [0.68779566, 0.76060771],\n",
       "        [0.68558623, 0.76062542],\n",
       "        [0.68683617, 0.75940288]]),\n",
       " 0.5: array([[0.66488881, 0.74506972],\n",
       "        [0.66225746, 0.74595252],\n",
       "        [0.66170556, 0.7439944 ],\n",
       "        [0.65974038, 0.74488673],\n",
       "        [0.6620733 , 0.74830734]]),\n",
       " 0.25: array([[0.62974315, 0.72600297],\n",
       "        [0.62670345, 0.7249302 ],\n",
       "        [0.63540656, 0.72927577],\n",
       "        [0.63117153, 0.72821605],\n",
       "        [0.63334596, 0.73048198]])}"
      ]
     },
     "execution_count": 47,
     "metadata": {},
     "output_type": "execute_result"
    }
   ],
   "source": [
    "results_distilled"
   ]
  },
  {
   "cell_type": "code",
   "execution_count": 20,
   "id": "bffedd01",
   "metadata": {},
   "outputs": [
    {
     "data": {
      "text/plain": [
       "{1: array([[0.70595192, 0.78092101],\n",
       "        [0.70759956, 0.78023417],\n",
       "        [0.70785369, 0.7779122 ],\n",
       "        [0.70788413, 0.78028744],\n",
       "        [0.70813085, 0.78053999]]),\n",
       " 0.75: array([[0.69911158, 0.77253544],\n",
       "        [0.70047736, 0.7756616 ],\n",
       "        [0.69914692, 0.77507706],\n",
       "        [0.7011891 , 0.77513242],\n",
       "        [0.69935539, 0.77376198]]),\n",
       " 0.5: array([[0.68361341, 0.7681156 ],\n",
       "        [0.68074656, 0.76671765],\n",
       "        [0.68464151, 0.76851531],\n",
       "        [0.6821748 , 0.76634747],\n",
       "        [0.68252982, 0.76623618]]),\n",
       " 0.25: array([[0.64496376, 0.74700117],\n",
       "        [0.64629904, 0.74983107],\n",
       "        [0.64300423, 0.74733916],\n",
       "        [0.64660469, 0.74852015],\n",
       "        [0.64726522, 0.74932682]])}"
      ]
     },
     "execution_count": 20,
     "metadata": {},
     "output_type": "execute_result"
    }
   ],
   "source": [
    "results_distilled_evoaug"
   ]
  },
  {
   "cell_type": "code",
   "execution_count": 29,
   "id": "39010c61",
   "metadata": {},
   "outputs": [
    {
     "data": {
      "text/plain": [
       "{1: array([[0.70262338, 0.77868846],\n",
       "        [0.70135787, 0.77940086],\n",
       "        [0.69603006, 0.77575181],\n",
       "        [0.70365201, 0.78027545],\n",
       "        [0.70205896, 0.77977878]]),\n",
       " 0.75: array([[0.69399334, 0.77575444],\n",
       "        [0.69593981, 0.77191665],\n",
       "        [0.69115674, 0.77267899],\n",
       "        [0.68558748, 0.76774668],\n",
       "        [0.69387801, 0.77440167]]),\n",
       " 0.5: array([[0.67523222, 0.76527574],\n",
       "        [0.67401097, 0.76582391],\n",
       "        [0.68301209, 0.76708616],\n",
       "        [0.67625591, 0.76489786],\n",
       "        [0.67450733, 0.763213  ]]),\n",
       " 0.25: array([[0.64278195, 0.74823868],\n",
       "        [0.64075897, 0.74448443],\n",
       "        [0.63099476, 0.7411022 ],\n",
       "        [0.63482926, 0.74415274],\n",
       "        [0.63886477, 0.7453279 ]])}"
      ]
     },
     "execution_count": 29,
     "metadata": {},
     "output_type": "execute_result"
    }
   ],
   "source": [
    "results_standard_evoaug"
   ]
  },
  {
   "cell_type": "code",
   "execution_count": 30,
   "id": "5c1b8482",
   "metadata": {},
   "outputs": [
    {
     "data": {
      "text/plain": [
       "{1: array([[0.70555879, 0.77952746],\n",
       "        [0.70524068, 0.77919437],\n",
       "        [0.70438991, 0.7798186 ],\n",
       "        [0.70551692, 0.78026346],\n",
       "        [0.70644088, 0.77984194]])}"
      ]
     },
     "execution_count": 30,
     "metadata": {},
     "output_type": "execute_result"
    }
   ],
   "source": [
    "results_distilled_aug"
   ]
  },
  {
   "cell_type": "code",
   "execution_count": 34,
   "id": "271cdf35",
   "metadata": {},
   "outputs": [
    {
     "data": {
      "text/plain": [
       "{1: array([[0.6986946 , 0.76745919],\n",
       "        [0.69687822, 0.77029417],\n",
       "        [0.69747438, 0.77076477],\n",
       "        [0.6953886 , 0.77054816],\n",
       "        [0.6968435 , 0.77103723]]),\n",
       " 0.75: array([[0.68989229, 0.76523565],\n",
       "        [0.69134855, 0.7657628 ],\n",
       "        [0.69182335, 0.76561983],\n",
       "        [0.68972067, 0.76514154],\n",
       "        [0.69165458, 0.76594923]])}"
      ]
     },
     "execution_count": 34,
     "metadata": {},
     "output_type": "execute_result"
    }
   ],
   "source": [
    "results_distilled_aug_concat"
   ]
  },
  {
   "cell_type": "code",
   "execution_count": 42,
   "id": "2618e603",
   "metadata": {},
   "outputs": [],
   "source": [
    "\n",
    "save_prefix = 'deepstarr'\n",
    "results_heteroscedastic = {}\n",
    "for method in ['gaussian', 'cauchy', 'laplace']:\n",
    "    vals = []\n",
    "    for trial in range(num_trials):\n",
    "        savename = os.path.join(results_path, save_prefix + '_Dev_' + method + '_' + str(trial))\n",
    "        with open(savename + '.pickle', 'rb') as fin:\n",
    "            mse, pearsonr, spearmanr = cPickle.load(fin)\n",
    "        savename = os.path.join(results_path, save_prefix + '_Hk_' + method + '_' + str(trial))\n",
    "        with open(savename + '.pickle', 'rb') as fin:\n",
    "            mse2, pearsonr2, spearmanr2 = cPickle.load(fin)\n",
    "        vals.append([pearsonr, pearsonr2])\n",
    "    results_heteroscedastic[method] = np.array(vals)\n",
    "    \n",
    "save_prefix = 'distilled'\n",
    "results_heteroscedastic_distilled = {}\n",
    "for method in ['gaussian', 'cauchy', 'laplace']:\n",
    "    vals = []\n",
    "    for trial in range(num_trials):\n",
    "        savename = os.path.join(results_path, save_prefix + '_Dev_' + method + '_' + str(trial))\n",
    "        with open(savename + '.pickle', 'rb') as fin:\n",
    "            mse, pearsonr, spearmanr = cPickle.load(fin)\n",
    "        savename = os.path.join(results_path, save_prefix + '_Hk_' + method + '_' + str(trial))\n",
    "        with open(savename + '.pickle', 'rb') as fin:\n",
    "            mse2, pearsonr2, spearmanr2 = cPickle.load(fin)\n",
    "        vals.append([pearsonr, pearsonr2])\n",
    "    results_heteroscedastic_distilled[method] = np.array(vals)\n",
    "    \n",
    "     \n",
    "    "
   ]
  },
  {
   "cell_type": "code",
   "execution_count": 43,
   "id": "06c602fe",
   "metadata": {},
   "outputs": [
    {
     "data": {
      "text/plain": [
       "{'gaussian': array([[0.66125565, 0.59825857],\n",
       "        [0.65616289, 0.5932993 ],\n",
       "        [0.64526745, 0.59402824],\n",
       "        [0.66408459, 0.5901797 ],\n",
       "        [0.64456396, 0.60111385]]),\n",
       " 'cauchy': array([[0.64700804, 0.57263504],\n",
       "        [0.63614373, 0.56910004],\n",
       "        [0.63835396, 0.56374433],\n",
       "        [0.64402801, 0.54940397],\n",
       "        [0.64528398, 0.57372185]]),\n",
       " 'laplace': array([[0.64774431, 0.56659267],\n",
       "        [0.66581502, 0.58136441],\n",
       "        [0.65471208, 0.57577381],\n",
       "        [0.66025059, 0.57154793],\n",
       "        [0.65334354, 0.58172399]])}"
      ]
     },
     "execution_count": 43,
     "metadata": {},
     "output_type": "execute_result"
    }
   ],
   "source": [
    "results_heteroscedastic"
   ]
  },
  {
   "cell_type": "code",
   "execution_count": 44,
   "id": "33ededa6",
   "metadata": {},
   "outputs": [
    {
     "data": {
      "text/plain": [
       "{'gaussian': array([[0.60125976, 0.51140354],\n",
       "        [0.56641997, 0.53423484],\n",
       "        [0.63795479, 0.56409292],\n",
       "        [0.59041725, 0.52640565],\n",
       "        [0.60027031, 0.52104335]]),\n",
       " 'cauchy': array([[0.63466168, 0.55246715],\n",
       "        [0.60284994, 0.57876524],\n",
       "        [0.63824148, 0.57091166],\n",
       "        [0.60440815, 0.56450716],\n",
       "        [0.60797086, 0.5586836 ]]),\n",
       " 'laplace': array([[0.60526942, 0.54677409],\n",
       "        [0.63907697, 0.51920055],\n",
       "        [0.64332074, 0.53277369],\n",
       "        [0.60000002, 0.56824983],\n",
       "        [0.61247588, 0.54225397]])}"
      ]
     },
     "execution_count": 44,
     "metadata": {},
     "output_type": "execute_result"
    }
   ],
   "source": [
    "results_heteroscedastic_distilled"
   ]
  },
  {
   "cell_type": "code",
   "execution_count": null,
   "id": "e9af1af4",
   "metadata": {},
   "outputs": [],
   "source": []
  }
 ],
 "metadata": {
  "kernelspec": {
   "display_name": "Python 3 (ipykernel)",
   "language": "python",
   "name": "python3"
  },
  "language_info": {
   "codemirror_mode": {
    "name": "ipython",
    "version": 3
   },
   "file_extension": ".py",
   "mimetype": "text/x-python",
   "name": "python",
   "nbconvert_exporter": "python",
   "pygments_lexer": "ipython3",
   "version": "3.8.10"
  }
 },
 "nbformat": 4,
 "nbformat_minor": 5
}
